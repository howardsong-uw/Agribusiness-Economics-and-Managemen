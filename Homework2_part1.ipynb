{
 "cells": [
  {
   "cell_type": "code",
   "execution_count": 76,
   "metadata": {},
   "outputs": [],
   "source": [
    "# pip install pandas numpy matplotlib\n",
    "import pandas as pd\n",
    "import numpy as np\n",
    "import matplotlib.pyplot as plt"
   ]
  },
  {
   "cell_type": "code",
   "execution_count": 77,
   "metadata": {},
   "outputs": [
    {
     "name": "stderr",
     "output_type": "stream",
     "text": [
      "<>:1: SyntaxWarning: invalid escape sequence '\\A'\n",
      "<>:1: SyntaxWarning: invalid escape sequence '\\A'\n",
      "C:\\Users\\Administrator\\AppData\\Local\\Temp\\ipykernel_14388\\2427368003.py:1: SyntaxWarning: invalid escape sequence '\\A'\n",
      "  Dir_Main = \"Users\\Administrator\\Desktop\\AAE625_25\\homework2\"\n"
     ]
    }
   ],
   "source": [
    "Dir_Main = \"Users\\Administrator\\Desktop\\AAE625_25\\homework2\""
   ]
  },
  {
   "cell_type": "code",
   "execution_count": 78,
   "metadata": {},
   "outputs": [
    {
     "name": "stdout",
     "output_type": "stream",
     "text": [
      "  observation_date  MEHOINUSA646N\n",
      "0       1984-01-01          22420\n",
      "1       1985-01-01          23620\n",
      "2       1986-01-01          24900\n",
      "3       1987-01-01          26060\n",
      "4       1988-01-01          27230\n"
     ]
    }
   ],
   "source": [
    "# import the household income data in this folder, named \"MEHOINUSA646N.csv\"\n",
    "import pandas as pd\n",
    "data = pd.read_csv(\"MEHOINUSA646N.csv\")\n",
    "print(data.head())"
   ]
  },
  {
   "cell_type": "markdown",
   "metadata": {},
   "source": []
  },
  {
   "cell_type": "code",
   "execution_count": 79,
   "metadata": {},
   "outputs": [
    {
     "name": "stdout",
     "output_type": "stream",
     "text": [
      "  observation_date  CPIAUCSL  Year\n",
      "0       1947-01-01    22.332  1947\n",
      "1       1948-01-01    24.045  1948\n",
      "2       1949-01-01    23.809  1949\n",
      "3       1950-01-01    24.063  1950\n",
      "4       1951-01-01    25.973  1951\n",
      "  observation_date  CPIAUCSL  Year  cpi_base2020  PriceIndx\n",
      "0       1947-01-01    22.332  1947       258.846   8.627524\n",
      "1       1948-01-01    24.045  1948       258.846   9.289307\n",
      "2       1949-01-01    23.809  1949       258.846   9.198133\n",
      "3       1950-01-01    24.063  1950       258.846   9.296261\n",
      "4       1951-01-01    25.973  1951       258.846  10.034152\n"
     ]
    }
   ],
   "source": [
    "# import the data cpi_annual.csv\n",
    "data_cpi = pd.read_csv(\"cpi_annual.csv\")\n",
    "# convert the first column to datetime\n",
    "data_cpi['observation_date'] = pd.to_datetime(data_cpi['observation_date'])\n",
    "data_cpi['Year'] = data_cpi['observation_date'].dt.year\n",
    "print(data_cpi.head())\n",
    "\n",
    "# create a new column named 'cpi_base2020' which is the cpi in 2020\n",
    "data_cpi['cpi_base2020'] = data_cpi[data_cpi['Year'] == 2020]['CPIAUCSL'].values[0]\n",
    "data_cpi['PriceIndx'] = data_cpi['CPIAUCSL'] / data_cpi['cpi_base2020'] *100\n",
    "print(data_cpi.head())\n",
    "\n",
    "# create a scatter plot of the data: x: year, y: real_value\n",
    "\n"
   ]
  },
  {
   "cell_type": "code",
   "execution_count": 80,
   "metadata": {},
   "outputs": [
    {
     "name": "stdout",
     "output_type": "stream",
     "text": [
      "  observation_date  MEHOINUSA646N  Year\n",
      "0       1984-01-01          22420  1984\n",
      "1       1985-01-01          23620  1985\n",
      "2       1986-01-01          24900  1986\n",
      "3       1987-01-01          26060  1987\n",
      "4       1988-01-01          27230  1988\n"
     ]
    }
   ],
   "source": [
    "data.head()\n",
    "# convert the first column to datetime\n",
    "data['observation_date'] = pd.to_datetime(data['observation_date'])\n",
    "data['Year'] = data['observation_date'].dt.year\n",
    "print(data.head())\n"
   ]
  },
  {
   "cell_type": "code",
   "execution_count": 81,
   "metadata": {},
   "outputs": [
    {
     "data": {
      "text/html": [
       "<div>\n",
       "<style scoped>\n",
       "    .dataframe tbody tr th:only-of-type {\n",
       "        vertical-align: middle;\n",
       "    }\n",
       "\n",
       "    .dataframe tbody tr th {\n",
       "        vertical-align: top;\n",
       "    }\n",
       "\n",
       "    .dataframe thead th {\n",
       "        text-align: right;\n",
       "    }\n",
       "</style>\n",
       "<table border=\"1\" class=\"dataframe\">\n",
       "  <thead>\n",
       "    <tr style=\"text-align: right;\">\n",
       "      <th></th>\n",
       "      <th>observation_date_x</th>\n",
       "      <th>MEHOINUSA646N</th>\n",
       "      <th>Year</th>\n",
       "      <th>observation_date_y</th>\n",
       "      <th>CPIAUCSL</th>\n",
       "      <th>cpi_base2020</th>\n",
       "      <th>PriceIndx</th>\n",
       "      <th>real_income</th>\n",
       "    </tr>\n",
       "  </thead>\n",
       "  <tbody>\n",
       "    <tr>\n",
       "      <th>35</th>\n",
       "      <td>2019-01-01</td>\n",
       "      <td>68700</td>\n",
       "      <td>2019</td>\n",
       "      <td>2019-01-01</td>\n",
       "      <td>255.653</td>\n",
       "      <td>258.846</td>\n",
       "      <td>98.766448</td>\n",
       "      <td>69558.034523</td>\n",
       "    </tr>\n",
       "    <tr>\n",
       "      <th>36</th>\n",
       "      <td>2020-01-01</td>\n",
       "      <td>68010</td>\n",
       "      <td>2020</td>\n",
       "      <td>2020-01-01</td>\n",
       "      <td>258.846</td>\n",
       "      <td>258.846</td>\n",
       "      <td>100.000000</td>\n",
       "      <td>68010.000000</td>\n",
       "    </tr>\n",
       "    <tr>\n",
       "      <th>37</th>\n",
       "      <td>2021-01-01</td>\n",
       "      <td>70780</td>\n",
       "      <td>2021</td>\n",
       "      <td>2021-01-01</td>\n",
       "      <td>270.966</td>\n",
       "      <td>258.846</td>\n",
       "      <td>104.682321</td>\n",
       "      <td>67614.091362</td>\n",
       "    </tr>\n",
       "    <tr>\n",
       "      <th>38</th>\n",
       "      <td>2022-01-01</td>\n",
       "      <td>74580</td>\n",
       "      <td>2022</td>\n",
       "      <td>2022-01-01</td>\n",
       "      <td>292.621</td>\n",
       "      <td>258.846</td>\n",
       "      <td>113.048299</td>\n",
       "      <td>65971.802024</td>\n",
       "    </tr>\n",
       "    <tr>\n",
       "      <th>39</th>\n",
       "      <td>2023-01-01</td>\n",
       "      <td>80610</td>\n",
       "      <td>2023</td>\n",
       "      <td>2023-01-01</td>\n",
       "      <td>304.701</td>\n",
       "      <td>258.846</td>\n",
       "      <td>117.715167</td>\n",
       "      <td>68478.856518</td>\n",
       "    </tr>\n",
       "  </tbody>\n",
       "</table>\n",
       "</div>"
      ],
      "text/plain": [
       "   observation_date_x  MEHOINUSA646N  Year observation_date_y  CPIAUCSL  \\\n",
       "35         2019-01-01          68700  2019         2019-01-01   255.653   \n",
       "36         2020-01-01          68010  2020         2020-01-01   258.846   \n",
       "37         2021-01-01          70780  2021         2021-01-01   270.966   \n",
       "38         2022-01-01          74580  2022         2022-01-01   292.621   \n",
       "39         2023-01-01          80610  2023         2023-01-01   304.701   \n",
       "\n",
       "    cpi_base2020   PriceIndx   real_income  \n",
       "35       258.846   98.766448  69558.034523  \n",
       "36       258.846  100.000000  68010.000000  \n",
       "37       258.846  104.682321  67614.091362  \n",
       "38       258.846  113.048299  65971.802024  \n",
       "39       258.846  117.715167  68478.856518  "
      ]
     },
     "execution_count": 81,
     "metadata": {},
     "output_type": "execute_result"
    }
   ],
   "source": [
    "#Ensure the \"Year\" column in df_cpi is of integer type. If not, convert it to integer type.\n",
    "data_cpi['Year'] = data_cpi['Year'].astype(int)\n",
    "\n",
    "#merge the df_income and df_cpi\n",
    "df_merge = pd.merge(data, data_cpi, on = 'Year', how = 'inner')\n",
    "df_merge['real_income'] = df_merge['MEHOINUSA646N'] / df_merge['PriceIndx'] * 100 \n",
    "df_merge.tail(5)\n",
    "\n",
    "\n"
   ]
  },
  {
   "cell_type": "code",
   "execution_count": 82,
   "metadata": {},
   "outputs": [
    {
     "data": {
      "image/png": "[encoded data removed]",
      "text/plain": [
       "<Figure size 640x480 with 1 Axes>"
      ]
     },
     "metadata": {},
     "output_type": "display_data"
    }
   ],
   "source": [
    "#create a scatter plot of the data: x: year, y: real_income \n",
    "\n",
    "# add MEHOINUSA646N to the plot\n",
    "plt.scatter(df_merge['Year'], df_merge['real_income'], label = 'Real Income')\n",
    "plt.scatter(df_merge['Year'], df_merge['MEHOINUSA646N'], label = 'Nominal Income')\n",
    "plt.xlabel('Year')\n",
    "plt.ylabel('Income')\n",
    "plt.title('Income of Household')\n",
    "plt.legend()\n",
    "plt.show()\n",
    "\n",
    "\n",
    "\n"
   ]
  },
  {
   "cell_type": "code",
   "execution_count": null,
   "metadata": {},
   "outputs": [],
   "source": []
  }
 ],
 "metadata": {
  "kernelspec": {
   "display_name": "base",
   "language": "python",
   "name": "python3"
  },
  "language_info": {
   "codemirror_mode": {
    "name": "ipython",
    "version": 3
   },
   "file_extension": ".py",
   "mimetype": "text/x-python",
   "name": "python",
   "nbconvert_exporter": "python",
   "pygments_lexer": "ipython3",
   "version": "3.12.7"
  }
 },
 "nbformat": 4,
 "nbformat_minor": 2
}
